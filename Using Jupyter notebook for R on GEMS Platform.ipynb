{
 "cells": [
  {
   "cell_type": "markdown",
   "metadata": {},
   "source": [
    "# **Using Jupyter notebook for R on GEMS Platform**\n",
    "\n",
    "---  \n",
    "\n",
    "## Open a new Jupyter notebook\n",
    "\n",
    "1. Login to GEMS Platform at https://gems.agroinformatics.org/webui/#\n",
    "2. Once logged in, click `Analyze > JupyterLab` from the homepage\n",
    "  \n",
    "<img src=\"screenshots/01_gems homepage_Jupyterlab.PNG\" width=600 alt=\"GEMS JupyterLab\" title=\"GEMSJupyterLab\" />  \n",
    "\n",
    "3. In the JupyterLab launcher window, first navigate to your desired directory where you want to save your Jupyter notebook, once in the desired folder, click the `R` button to create your notebook.\n",
    "\n",
    "<img src=\"screenshots/02_Jupyter Launcher_steps.PNG\" width=600 alt=\"GEMS JupyterLab\" title=\"GEMSJupyterLab\" />  \n",
    "\n",
    "4. You should now see a blank \"Untitled.ipynb\" tab open up, which will be your new notebook. To rename the notebook, right-click on the file name and choose `Rename` option.\n",
    "\n",
    "<img src=\"screenshots/03_Jupyter notebook - Rename.PNG\" width=600 alt=\"GEMS JupyterLab\" title=\"GEMSJupyterLab\" />  \n",
    "\n",
    "\n",
    "## How to use Jupyter notebook\n",
    "\n",
    "Jupyter notebooks are organized in a series of **cells**, where each cell can be used for either text `Markdown` or `Code`.\n",
    "\n",
    "#### To add a **`Markdown` cell**, click \"+\" symbol and `Markdown` in the dropbox \n",
    "<img src=\"screenshots/04_cell_markdown.PNG\" width=600 alt=\"GEMS JupyterLab\" title=\"GEMSJupyterLab\" />  \n",
    "\n",
    "Markdown allow you to write texts with a rich variety of formatting options. See this [Markdown for Jupyter notebooks cheatsheet](https://www.ibm.com/docs/en/db2-event-store/2.0.0?topic=notebooks-markdown-jupyter-cheatsheet) for a quick overview.  \n",
    "Use `Shift + Enter` when you done typing to run the cell\n",
    "\n",
    "#### To add a **`Code` cell**, click \"+\" symbol (default is `Code` cell) \n",
    "<img src=\"screenshots/05_cell_code.PNG\" width=600 alt=\"GEMS JupyterLab\" title=\"GEMSJupyterLab\" />  \n",
    "\n",
    "A code cell allow you write you R codes for your analysis.  \n",
    "Use `Shift + Enter` when you done typing to run the cell\n",
    "\n",
    "\n",
    "---  "
   ]
  },
  {
   "cell_type": "code",
   "execution_count": null,
   "metadata": {},
   "outputs": [],
   "source": []
  }
 ],
 "metadata": {
  "kernelspec": {
   "display_name": "Python 3",
   "language": "python",
   "name": "python3"
  },
  "language_info": {
   "codemirror_mode": {
    "name": "ipython",
    "version": 3
   },
   "file_extension": ".py",
   "mimetype": "text/x-python",
   "name": "python",
   "nbconvert_exporter": "python",
   "pygments_lexer": "ipython3",
   "version": "3.8.3"
  }
 },
 "nbformat": 4,
 "nbformat_minor": 4
}
